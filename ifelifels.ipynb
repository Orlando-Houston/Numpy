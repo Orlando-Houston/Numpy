{
 "cells": [
  {
   "cell_type": "markdown",
   "metadata": {},
   "source": [
    "* x == y # x, y'ye eşit ise\n",
    "* x != y # x, y'ye eşit değil ise\n",
    "* y # x, y'den büyük ise\n",
    "* x < y # x, y'den küçük ise\n",
    "* x >= y # x, y'den büyük ve eşit ise\n",
    "* x <= y # x, y'den küçük ve eşit ise\n",
    "* https://caylakyazilimci.com/post/if-else-ifadeleri-python-101-3\n",
    "* https://www.sadikturan.com/python-kosul-ifadeleri/python-kosullu-ifadeler-ornekleri/1387\n",
    "* https://www.yilmazmehmet.com/2018/01/23/python-if-else-kullanimi/"
   ]
  },
  {
   "cell_type": "code",
   "execution_count": null,
   "metadata": {},
   "outputs": [],
   "source": []
  }
 ],
 "metadata": {
  "kernelspec": {
   "display_name": "Python 3",
   "language": "python",
   "name": "python3"
  },
  "language_info": {
   "codemirror_mode": {
    "name": "ipython",
    "version": 3
   },
   "file_extension": ".py",
   "mimetype": "text/x-python",
   "name": "python",
   "nbconvert_exporter": "python",
   "pygments_lexer": "ipython3",
   "version": "3.8.5"
  }
 },
 "nbformat": 4,
 "nbformat_minor": 4
}
